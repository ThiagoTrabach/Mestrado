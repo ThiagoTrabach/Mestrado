{
 "cells": [
  {
   "cell_type": "code",
   "execution_count": 1,
   "metadata": {
    "collapsed": true,
    "deletable": true,
    "editable": true
   },
   "outputs": [],
   "source": [
    "import numpy as np\n",
    "import matplotlib.pyplot as plt\n",
    "import time\n",
    "import math\n",
    "\n",
    "%matplotlib inline"
   ]
  },
  {
   "cell_type": "markdown",
   "metadata": {
    "deletable": true,
    "editable": true
   },
   "source": [
    "# Questão 1"
   ]
  },
  {
   "cell_type": "markdown",
   "metadata": {
    "deletable": true,
    "editable": true
   },
   "source": [
    "Carrega as variáveis na forma: x * A = y"
   ]
  },
  {
   "cell_type": "code",
   "execution_count": 2,
   "metadata": {
    "collapsed": false,
    "deletable": true,
    "editable": true
   },
   "outputs": [
    {
     "name": "stdout",
     "output_type": "stream",
     "text": [
      "[[ 1  0  0  0]\n",
      " [ 1  1  1  1]\n",
      " [ 1  2  4  8]\n",
      " [ 1  3  9 27]]\n",
      "[[ 1]\n",
      " [ 0]\n",
      " [-1]\n",
      " [ 2]]\n"
     ]
    }
   ],
   "source": [
    "x = np.matrix([[1,0,0,0],[1,1,1,1],[1,2,4,8], [1,3,9,27]])\n",
    "y = np.matrix([[1],[0],[-1],[2]])\n",
    "print(x)\n",
    "print(y)"
   ]
  },
  {
   "cell_type": "markdown",
   "metadata": {
    "deletable": true,
    "editable": true
   },
   "source": [
    "Inverte x e encontra A"
   ]
  },
  {
   "cell_type": "code",
   "execution_count": 3,
   "metadata": {
    "collapsed": false,
    "deletable": true,
    "editable": true
   },
   "outputs": [
    {
     "name": "stdout",
     "output_type": "stream",
     "text": [
      "[[ 1.          0.          0.          0.        ]\n",
      " [-1.83333333  3.         -1.5         0.33333333]\n",
      " [ 1.         -2.5         2.         -0.5       ]\n",
      " [-0.16666667  0.5        -0.5         0.16666667]]\n"
     ]
    }
   ],
   "source": [
    "x_inv = np.linalg.inv(x)\n",
    "print(x_inv)"
   ]
  },
  {
   "cell_type": "code",
   "execution_count": 4,
   "metadata": {
    "collapsed": false,
    "deletable": true,
    "editable": true
   },
   "outputs": [
    {
     "name": "stdout",
     "output_type": "stream",
     "text": [
      "[[ 1.        ]\n",
      " [ 0.33333333]\n",
      " [-2.        ]\n",
      " [ 0.66666667]]\n"
     ]
    }
   ],
   "source": [
    "A = x_inv * y\n",
    "print(A)"
   ]
  },
  {
   "cell_type": "markdown",
   "metadata": {
    "deletable": true,
    "editable": true
   },
   "source": [
    "Gráfico"
   ]
  },
  {
   "cell_type": "code",
   "execution_count": 5,
   "metadata": {
    "collapsed": false,
    "deletable": true,
    "editable": true
   },
   "outputs": [
    {
     "data": {
      "image/png": "[encoded data removed]",
      "text/plain": [
       "<matplotlib.figure.Figure at 0x7f7201fbdd68>"
      ]
     },
     "metadata": {},
     "output_type": "display_data"
    }
   ],
   "source": [
    "#Carrega os Pontos\n",
    "plt.plot([0,1,2,3],[1,0,-1,2],'ro')\n",
    "\n",
    "#Carrega o polinômio de grau 3\n",
    "d = np.arange(-5.0, 10.0, 0.01)\n",
    "x = np.matrix([np.ones(len(d)),d,d**2,d**3])\n",
    "x = np.transpose(x)\n",
    "y = x * A\n",
    "plt.plot(d,y)\n",
    "\n",
    "#Configura o plot e exibe\n",
    "plt.axis([-2,4,-2,3])\n",
    "plt.show()"
   ]
  },
  {
   "cell_type": "markdown",
   "metadata": {
    "collapsed": false,
    "deletable": true,
    "editable": true
   },
   "source": [
    "# Questão  6"
   ]
  },
  {
   "cell_type": "markdown",
   "metadata": {
    "collapsed": false,
    "deletable": true,
    "editable": true
   },
   "source": [
    "Definição da função"
   ]
  },
  {
   "cell_type": "code",
   "execution_count": 6,
   "metadata": {
    "collapsed": false,
    "deletable": true,
    "editable": true
   },
   "outputs": [],
   "source": [
    "def resolve_x(L , b):\n",
    "    \n",
    "    #verifica se a matrix é triangular inferior\n",
    "    if not(np.alltrue(L == np.tril(L))):\n",
    "        print('A matriz não é triangular inferior!')\n",
    "        return\n",
    "    \n",
    "    #converte os valores para array\n",
    "    b = np.array(b)\n",
    "    L = np.array(L)\n",
    "    \n",
    "    #verifica se as dimensões estão corretas\n",
    "    if L.shape[1]!= b.shape[0]:\n",
    "        print('As dimensões das matrizes L e  b não permitem essa operação!')\n",
    "        return    \n",
    "    \n",
    "    #calcula a matriz x\n",
    "    x = np.linalg.solve(L, b)\n",
    "    return x"
   ]
  },
  {
   "cell_type": "markdown",
   "metadata": {
    "deletable": true,
    "editable": true
   },
   "source": [
    "## Teste da função"
   ]
  },
  {
   "cell_type": "markdown",
   "metadata": {
    "deletable": true,
    "editable": true
   },
   "source": [
    "Cálculo de x"
   ]
  },
  {
   "cell_type": "code",
   "execution_count": 7,
   "metadata": {
    "collapsed": false,
    "deletable": true,
    "editable": true
   },
   "outputs": [
    {
     "name": "stdout",
     "output_type": "stream",
     "text": [
      "[ 1. -0.]\n"
     ]
    }
   ],
   "source": [
    "L = np.array([[1,0],[2,1]])\n",
    "b = np.array([1,2])\n",
    "\n",
    "x = resolve_x(L, b)\n",
    "print(x)"
   ]
  },
  {
   "cell_type": "markdown",
   "metadata": {
    "deletable": true,
    "editable": true
   },
   "source": [
    "Volta para b"
   ]
  },
  {
   "cell_type": "code",
   "execution_count": 8,
   "metadata": {
    "collapsed": false,
    "deletable": true,
    "editable": true
   },
   "outputs": [
    {
     "name": "stdout",
     "output_type": "stream",
     "text": [
      "[[ 1.]\n",
      " [ 2.]]\n"
     ]
    }
   ],
   "source": [
    "print(np.matrix([[1,0], [2,1]]) * np.transpose(np.matrix(x)))"
   ]
  },
  {
   "cell_type": "markdown",
   "metadata": {
    "deletable": true,
    "editable": true
   },
   "source": [
    "# Questão 7"
   ]
  },
  {
   "cell_type": "code",
   "execution_count": 8,
   "metadata": {
    "collapsed": false,
    "deletable": true,
    "editable": true
   },
   "outputs": [
    {
     "name": "stdout",
     "output_type": "stream",
     "text": [
      "Concluído! n = 2000\r"
     ]
    }
   ],
   "source": [
    "x = list(range(10,2001,10))\n",
    "tempo_medio = []\n",
    "\n",
    "for n in range(10,2001,10):\n",
    "    \n",
    "    tempos = []\n",
    "    \n",
    "    #Printa a iteração que está  \n",
    "    print('Calculando n = '+ str(n), end=\"\\r\")\n",
    "    \n",
    "    for i in range(1,10):\n",
    "        #gera as matrizes\n",
    "        A = np.random.random((n,n))\n",
    "        b = np.random.rand(n)\n",
    "        #A = np.random.randint(1,10,(n,n))\n",
    "        #b = np.random.randint(1,10,(n,1))\n",
    "        \n",
    "        #marca o tempo inicial\n",
    "        tempo_inicial = time.time()\n",
    "        \n",
    "        #calcula a solução\n",
    "        np.linalg.solve(A,b)\n",
    "        \n",
    "        #calculo a solução(ALTERNATIVA)\n",
    "        #np.linalg.inv(A) * b\n",
    "        \n",
    "        \n",
    "        #marca o tempo final\n",
    "        tempo_final = time.time()\n",
    "        \n",
    "        #adiciona o tempo gasto na i-éssima resolução\n",
    "        tempos.append(tempo_final - tempo_inicial)\n",
    "    \n",
    "    #calcula o tempo médio gasto para n-essésima iteração\n",
    "    tempo_medio.append((sum(tempos)/len(tempos)))\n",
    " \n",
    "print('Concluído!', end=\"\\r\")"
   ]
  },
  {
   "cell_type": "code",
   "execution_count": 9,
   "metadata": {
    "collapsed": false,
    "deletable": true,
    "editable": true
   },
   "outputs": [
    {
     "data": {
      "text/plain": [
       "<function matplotlib.pyplot.show>"
      ]
     },
     "execution_count": 9,
     "metadata": {},
     "output_type": "execute_result"
    },
    {
     "data": {
      "image/png": "[encoded data removed]",
      "text/plain": [
       "<matplotlib.figure.Figure at 0x7ff71144bdd8>"
      ]
     },
     "metadata": {},
     "output_type": "display_data"
    }
   ],
   "source": [
    "plt.plot(x, tempo_medio)\n",
    "plt.axis([10,2000,0,0.3])\n",
    "plt.xlabel('Tamanho da Matriz (n)')\n",
    "plt.ylabel('Tempo de Resolução')\n",
    "plt.legend(['Tempos Medios', 'Crescimento Cubico'], loc='best')\n",
    "plt.show"
   ]
  },
  {
   "cell_type": "markdown",
   "metadata": {
    "deletable": true,
    "editable": true
   },
   "source": [
    "Visualização em escala logarítimica"
   ]
  },
  {
   "cell_type": "code",
   "execution_count": 15,
   "metadata": {
    "collapsed": false,
    "deletable": true,
    "editable": true
   },
   "outputs": [],
   "source": [
    "#calculando o tempo médio hipotético (n³) relativamente ao primeiro tempo(n=10)\n",
    "tempo_n3 = [ (tempo_medio[0]/1000)*x[i]**3 for i in range(0,len(x))]"
   ]
  },
  {
   "cell_type": "code",
   "execution_count": 16,
   "metadata": {
    "collapsed": false,
    "deletable": true,
    "editable": true
   },
   "outputs": [
    {
     "data": {
      "text/plain": [
       "<function matplotlib.pyplot.show>"
      ]
     },
     "execution_count": 16,
     "metadata": {},
     "output_type": "execute_result"
    },
    {
     "data": {
      "image/png": "[encoded data removed]",
      "text/plain": [
       "<matplotlib.figure.Figure at 0x7ff711243cf8>"
      ]
     },
     "metadata": {},
     "output_type": "display_data"
    }
   ],
   "source": [
    "plt.loglog(x, tempo_medio)\n",
    "plt.loglog(x, tempo_n3)\n",
    "plt.xlabel('Tamanho da Matriz (n)')\n",
    "plt.ylabel('Tempo de Resolução')\n",
    "plt.legend(['Tempos Medios', 'Crescimento Cubico'], loc='best')\n",
    "plt.show"
   ]
  },
  {
   "cell_type": "code",
   "execution_count": 14,
   "metadata": {
    "collapsed": false
   },
   "outputs": [
    {
     "data": {
      "text/plain": [
       "[<matplotlib.lines.Line2D at 0x7ff7110d5550>,\n",
       " <matplotlib.lines.Line2D at 0x7ff7110d5940>]"
      ]
     },
     "execution_count": 14,
     "metadata": {},
     "output_type": "execute_result"
    },
    {
     "data": {
      "image/png": "[encoded data removed]",
      "text/plain": [
       "<matplotlib.figure.Figure at 0x7ff711327c18>"
      ]
     },
     "metadata": {},
     "output_type": "display_data"
    }
   ],
   "source": [
    "dimension = np.log(x)\n",
    "total_time = np.log(tempo_medio) \n",
    "plt.plot(dimension,total_time,dimension,3*dimension - 24)"
   ]
  },
  {
   "cell_type": "code",
   "execution_count": null,
   "metadata": {
    "collapsed": true,
    "deletable": true,
    "editable": true
   },
   "outputs": [],
   "source": []
  }
 ],
 "metadata": {
  "kernelspec": {
   "display_name": "Python 3",
   "language": "python",
   "name": "python3"
  },
  "language_info": {
   "codemirror_mode": {
    "name": "ipython",
    "version": 3
   },
   "file_extension": ".py",
   "mimetype": "text/x-python",
   "name": "python",
   "nbconvert_exporter": "python",
   "pygments_lexer": "ipython3",
   "version": "3.5.2"
  }
 },
 "nbformat": 4,
 "nbformat_minor": 0
}
