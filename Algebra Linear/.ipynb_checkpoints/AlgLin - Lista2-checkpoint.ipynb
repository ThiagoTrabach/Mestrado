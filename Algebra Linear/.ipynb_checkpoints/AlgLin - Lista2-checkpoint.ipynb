{
 "cells": [
  {
   "cell_type": "markdown",
   "metadata": {
    "deletable": true,
    "editable": true
   },
   "source": [
    "# Algebra Linear - Lista 2\n",
    "\n",
    "## Exercício 6"
   ]
  },
  {
   "cell_type": "code",
   "execution_count": 9,
   "metadata": {
    "collapsed": true,
    "deletable": true,
    "editable": true
   },
   "outputs": [],
   "source": [
    "import numpy as np\n",
    "import sympy as sp"
   ]
  },
  {
   "cell_type": "code",
   "execution_count": 10,
   "metadata": {
    "collapsed": false,
    "deletable": true,
    "editable": true
   },
   "outputs": [],
   "source": [
    "#Carregar os dados\n",
    "A = np.genfromtxt('MatrizIncidencia.csv', delimiter=';')"
   ]
  },
  {
   "cell_type": "code",
   "execution_count": 11,
   "metadata": {
    "collapsed": false,
    "deletable": true,
    "editable": true
   },
   "outputs": [
    {
     "name": "stdout",
     "output_type": "stream",
     "text": [
      "dimensões de A = (196, 52)\n",
      "posto(A) = 49\n"
     ]
    }
   ],
   "source": [
    "#Verificar o posta da matrix\n",
    "print(\"dimensões de A =\", A.shape)\n",
    "print(\"posto(A) =\", np.linalg.matrix_rank(A))"
   ]
  },
  {
   "cell_type": "markdown",
   "metadata": {},
   "source": [
    "### a) Encontre uma base para o núcleo da matriz de incidência."
   ]
  },
  {
   "cell_type": "code",
   "execution_count": 12,
   "metadata": {
    "collapsed": false
   },
   "outputs": [
    {
     "name": "stdout",
     "output_type": "stream",
     "text": [
      "⎡⎡1.0⎤, ⎡ 0 ⎤, ⎡ 0 ⎤⎤\n",
      "⎢⎢   ⎥  ⎢   ⎥  ⎢   ⎥⎥\n",
      "⎢⎢1.0⎥  ⎢ 0 ⎥  ⎢ 0 ⎥⎥\n",
      "⎢⎢   ⎥  ⎢   ⎥  ⎢   ⎥⎥\n",
      "⎢⎢1.0⎥  ⎢ 0 ⎥  ⎢ 0 ⎥⎥\n",
      "⎢⎢   ⎥  ⎢   ⎥  ⎢   ⎥⎥\n",
      "⎢⎢1.0⎥  ⎢ 0 ⎥  ⎢ 0 ⎥⎥\n",
      "⎢⎢   ⎥  ⎢   ⎥  ⎢   ⎥⎥\n",
      "⎢⎢1.0⎥  ⎢ 0 ⎥  ⎢ 0 ⎥⎥\n",
      "⎢⎢   ⎥  ⎢   ⎥  ⎢   ⎥⎥\n",
      "⎢⎢1.0⎥  ⎢ 0 ⎥  ⎢ 0 ⎥⎥\n",
      "⎢⎢   ⎥  ⎢   ⎥  ⎢   ⎥⎥\n",
      "⎢⎢1.0⎥  ⎢ 0 ⎥  ⎢ 0 ⎥⎥\n",
      "⎢⎢   ⎥  ⎢   ⎥  ⎢   ⎥⎥\n",
      "⎢⎢1.0⎥  ⎢ 0 ⎥  ⎢ 0 ⎥⎥\n",
      "⎢⎢   ⎥  ⎢   ⎥  ⎢   ⎥⎥\n",
      "⎢⎢1.0⎥  ⎢ 0 ⎥  ⎢ 0 ⎥⎥\n",
      "⎢⎢   ⎥  ⎢   ⎥  ⎢   ⎥⎥\n",
      "⎢⎢1.0⎥  ⎢ 0 ⎥  ⎢ 0 ⎥⎥\n",
      "⎢⎢   ⎥  ⎢   ⎥  ⎢   ⎥⎥\n",
      "⎢⎢1.0⎥  ⎢ 0 ⎥  ⎢ 0 ⎥⎥\n",
      "⎢⎢   ⎥  ⎢   ⎥  ⎢   ⎥⎥\n",
      "⎢⎢1.0⎥  ⎢ 0 ⎥  ⎢ 0 ⎥⎥\n",
      "⎢⎢   ⎥  ⎢   ⎥  ⎢   ⎥⎥\n",
      "⎢⎢1.0⎥  ⎢ 0 ⎥  ⎢ 0 ⎥⎥\n",
      "⎢⎢   ⎥  ⎢   ⎥  ⎢   ⎥⎥\n",
      "⎢⎢1.0⎥  ⎢ 0 ⎥  ⎢ 0 ⎥⎥\n",
      "⎢⎢   ⎥  ⎢   ⎥  ⎢   ⎥⎥\n",
      "⎢⎢1.0⎥  ⎢ 0 ⎥  ⎢ 0 ⎥⎥\n",
      "⎢⎢   ⎥  ⎢   ⎥  ⎢   ⎥⎥\n",
      "⎢⎢1.0⎥  ⎢ 0 ⎥  ⎢ 0 ⎥⎥\n",
      "⎢⎢   ⎥  ⎢   ⎥  ⎢   ⎥⎥\n",
      "⎢⎢1.0⎥  ⎢ 0 ⎥  ⎢ 0 ⎥⎥\n",
      "⎢⎢   ⎥  ⎢   ⎥  ⎢   ⎥⎥\n",
      "⎢⎢1.0⎥  ⎢ 0 ⎥  ⎢ 0 ⎥⎥\n",
      "⎢⎢   ⎥  ⎢   ⎥  ⎢   ⎥⎥\n",
      "⎢⎢1.0⎥  ⎢ 0 ⎥  ⎢ 0 ⎥⎥\n",
      "⎢⎢   ⎥  ⎢   ⎥  ⎢   ⎥⎥\n",
      "⎢⎢1.0⎥  ⎢ 0 ⎥  ⎢ 0 ⎥⎥\n",
      "⎢⎢   ⎥  ⎢   ⎥  ⎢   ⎥⎥\n",
      "⎢⎢1.0⎥  ⎢ 0 ⎥  ⎢ 0 ⎥⎥\n",
      "⎢⎢   ⎥  ⎢   ⎥  ⎢   ⎥⎥\n",
      "⎢⎢1.0⎥  ⎢ 0 ⎥  ⎢ 0 ⎥⎥\n",
      "⎢⎢   ⎥  ⎢   ⎥  ⎢   ⎥⎥\n",
      "⎢⎢1.0⎥  ⎢ 0 ⎥  ⎢ 0 ⎥⎥\n",
      "⎢⎢   ⎥  ⎢   ⎥  ⎢   ⎥⎥\n",
      "⎢⎢1.0⎥  ⎢ 0 ⎥  ⎢ 0 ⎥⎥\n",
      "⎢⎢   ⎥  ⎢   ⎥  ⎢   ⎥⎥\n",
      "⎢⎢1.0⎥  ⎢ 0 ⎥  ⎢ 0 ⎥⎥\n",
      "⎢⎢   ⎥  ⎢   ⎥  ⎢   ⎥⎥\n",
      "⎢⎢1.0⎥  ⎢ 0 ⎥  ⎢ 0 ⎥⎥\n",
      "⎢⎢   ⎥  ⎢   ⎥  ⎢   ⎥⎥\n",
      "⎢⎢1.0⎥  ⎢ 0 ⎥  ⎢ 0 ⎥⎥\n",
      "⎢⎢   ⎥  ⎢   ⎥  ⎢   ⎥⎥\n",
      "⎢⎢1.0⎥  ⎢ 0 ⎥  ⎢ 0 ⎥⎥\n",
      "⎢⎢   ⎥  ⎢   ⎥  ⎢   ⎥⎥\n",
      "⎢⎢1.0⎥  ⎢ 0 ⎥  ⎢ 0 ⎥⎥\n",
      "⎢⎢   ⎥  ⎢   ⎥  ⎢   ⎥⎥\n",
      "⎢⎢1.0⎥  ⎢ 0 ⎥  ⎢ 0 ⎥⎥\n",
      "⎢⎢   ⎥  ⎢   ⎥  ⎢   ⎥⎥\n",
      "⎢⎢1.0⎥  ⎢ 0 ⎥  ⎢ 0 ⎥⎥\n",
      "⎢⎢   ⎥  ⎢   ⎥  ⎢   ⎥⎥\n",
      "⎢⎢ 1 ⎥  ⎢ 0 ⎥  ⎢ 0 ⎥⎥\n",
      "⎢⎢   ⎥  ⎢   ⎥  ⎢   ⎥⎥\n",
      "⎢⎢ 0 ⎥  ⎢1.0⎥  ⎢ 0 ⎥⎥\n",
      "⎢⎢   ⎥  ⎢   ⎥  ⎢   ⎥⎥\n",
      "⎢⎢ 0 ⎥  ⎢1.0⎥  ⎢ 0 ⎥⎥\n",
      "⎢⎢   ⎥  ⎢   ⎥  ⎢   ⎥⎥\n",
      "⎢⎢ 0 ⎥  ⎢1.0⎥  ⎢ 0 ⎥⎥\n",
      "⎢⎢   ⎥  ⎢   ⎥  ⎢   ⎥⎥\n",
      "⎢⎢ 0 ⎥  ⎢1.0⎥  ⎢ 0 ⎥⎥\n",
      "⎢⎢   ⎥  ⎢   ⎥  ⎢   ⎥⎥\n",
      "⎢⎢ 0 ⎥  ⎢1.0⎥  ⎢ 0 ⎥⎥\n",
      "⎢⎢   ⎥  ⎢   ⎥  ⎢   ⎥⎥\n",
      "⎢⎢ 0 ⎥  ⎢1.0⎥  ⎢ 0 ⎥⎥\n",
      "⎢⎢   ⎥  ⎢   ⎥  ⎢   ⎥⎥\n",
      "⎢⎢ 0 ⎥  ⎢1.0⎥  ⎢ 0 ⎥⎥\n",
      "⎢⎢   ⎥  ⎢   ⎥  ⎢   ⎥⎥\n",
      "⎢⎢ 0 ⎥  ⎢1.0⎥  ⎢ 0 ⎥⎥\n",
      "⎢⎢   ⎥  ⎢   ⎥  ⎢   ⎥⎥\n",
      "⎢⎢ 0 ⎥  ⎢1.0⎥  ⎢ 0 ⎥⎥\n",
      "⎢⎢   ⎥  ⎢   ⎥  ⎢   ⎥⎥\n",
      "⎢⎢ 0 ⎥  ⎢1.0⎥  ⎢ 0 ⎥⎥\n",
      "⎢⎢   ⎥  ⎢   ⎥  ⎢   ⎥⎥\n",
      "⎢⎢ 0 ⎥  ⎢1.0⎥  ⎢ 0 ⎥⎥\n",
      "⎢⎢   ⎥  ⎢   ⎥  ⎢   ⎥⎥\n",
      "⎢⎢ 0 ⎥  ⎢1.0⎥  ⎢ 0 ⎥⎥\n",
      "⎢⎢   ⎥  ⎢   ⎥  ⎢   ⎥⎥\n",
      "⎢⎢ 0 ⎥  ⎢1.0⎥  ⎢ 0 ⎥⎥\n",
      "⎢⎢   ⎥  ⎢   ⎥  ⎢   ⎥⎥\n",
      "⎢⎢ 0 ⎥  ⎢1.0⎥  ⎢ 0 ⎥⎥\n",
      "⎢⎢   ⎥  ⎢   ⎥  ⎢   ⎥⎥\n",
      "⎢⎢ 0 ⎥  ⎢1.0⎥  ⎢ 0 ⎥⎥\n",
      "⎢⎢   ⎥  ⎢   ⎥  ⎢   ⎥⎥\n",
      "⎢⎢ 0 ⎥  ⎢ 1 ⎥  ⎢ 0 ⎥⎥\n",
      "⎢⎢   ⎥  ⎢   ⎥  ⎢   ⎥⎥\n",
      "⎢⎢ 0 ⎥  ⎢ 0 ⎥  ⎢1.0⎥⎥\n",
      "⎢⎢   ⎥  ⎢   ⎥  ⎢   ⎥⎥\n",
      "⎢⎢ 0 ⎥  ⎢ 0 ⎥  ⎢1.0⎥⎥\n",
      "⎢⎢   ⎥  ⎢   ⎥  ⎢   ⎥⎥\n",
      "⎢⎢ 0 ⎥  ⎢ 0 ⎥  ⎢1.0⎥⎥\n",
      "⎢⎢   ⎥  ⎢   ⎥  ⎢   ⎥⎥\n",
      "⎣⎣ 0 ⎦  ⎣ 0 ⎦  ⎣ 1 ⎦⎦\n"
     ]
    }
   ],
   "source": [
    "A = sp.Matrix(A)\n",
    "x = A.nullspace()\n",
    "\n",
    "sp.pprint(x)"
   ]
  },
  {
   "cell_type": "markdown",
   "metadata": {},
   "source": [
    "### b) Descreva quantas componentes conexas esta rede possui e quais são os vértices que pertencem a cada componente."
   ]
  },
  {
   "cell_type": "markdown",
   "metadata": {},
   "source": [
    "#### Quantidade de Componentes Conexos"
   ]
  },
  {
   "cell_type": "code",
   "execution_count": 14,
   "metadata": {
    "collapsed": false
   },
   "outputs": [
    {
     "data": {
      "text/plain": [
       "3"
      ]
     },
     "execution_count": 14,
     "metadata": {},
     "output_type": "execute_result"
    }
   ],
   "source": [
    "len(x)"
   ]
  },
  {
   "cell_type": "markdown",
   "metadata": {},
   "source": [
    "#### Conexão entre Componentes"
   ]
  },
  {
   "cell_type": "code",
   "execution_count": 15,
   "metadata": {
    "collapsed": true,
    "deletable": true,
    "editable": true
   },
   "outputs": [],
   "source": [
    "def componentes_conexos(vetor):\n",
    "    \n",
    "    componentes = []\n",
    "    \n",
    "    for i in range(0, len(vetor)):\n",
    "        \n",
    "        if vetor[i] == 1:\n",
    "            \n",
    "            componentes.append(i)\n",
    "    \n",
    "    return componentes"
   ]
  },
  {
   "cell_type": "code",
   "execution_count": 23,
   "metadata": {
    "collapsed": false
   },
   "outputs": [
    {
     "name": "stdout",
     "output_type": "stream",
     "text": [
      "Componente 1 =  [0, 1, 2, 3, 4, 5, 6, 7, 8, 9, 10, 11, 12, 13, 14, 15, 16, 17, 18, 19, 20, 21, 22, 23, 24, 25, 26, 27, 28, 29, 30, 31]\n",
      "Componente 2 =  [32, 33, 34, 35, 36, 37, 38, 39, 40, 41, 42, 43, 44, 45, 46, 47]\n",
      "Componente 3 =  [48, 49, 50, 51]\n"
     ]
    }
   ],
   "source": [
    "c1 = componentes_conexos(x[0])\n",
    "c2 = componentes_conexos(x[1])\n",
    "c3 = componentes_conexos(x[2])\n",
    "\n",
    "print(\"Componente 1 = \", c1)\n",
    "print(\"Componente 2 = \", c2)\n",
    "print(\"Componente 3 = \", c3)"
   ]
  },
  {
   "cell_type": "code",
   "execution_count": null,
   "metadata": {
    "collapsed": true
   },
   "outputs": [],
   "source": []
  }
 ],
 "metadata": {
  "kernelspec": {
   "display_name": "Python 3",
   "language": "python",
   "name": "python3"
  },
  "language_info": {
   "codemirror_mode": {
    "name": "ipython",
    "version": 3
   },
   "file_extension": ".py",
   "mimetype": "text/x-python",
   "name": "python",
   "nbconvert_exporter": "python",
   "pygments_lexer": "ipython3",
   "version": "3.5.2"
  }
 },
 "nbformat": 4,
 "nbformat_minor": 2
}
